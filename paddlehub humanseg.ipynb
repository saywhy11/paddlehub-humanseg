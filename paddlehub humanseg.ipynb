{
 "cells": [
  {
   "cell_type": "code",
   "execution_count": null,
   "id": "0f631705",
   "metadata": {},
   "outputs": [],
   "source": [
    "#装库的时候，需要对config 进行修改，在.paddlehub下面\n",
    "#新版本的humanseg,需要visualization=True, output_dir=output_path 使图片输出在指定文件夹里\n",
    "#须使用英文路径"
   ]
  },
  {
   "cell_type": "code",
   "execution_count": 8,
   "id": "c7d1600d",
   "metadata": {},
   "outputs": [],
   "source": [
    "import paddle.fluid"
   ]
  },
  {
   "cell_type": "code",
   "execution_count": 9,
   "id": "4365ae9e",
   "metadata": {},
   "outputs": [
    {
     "name": "stdout",
     "output_type": "stream",
     "text": [
      "Running Verify Fluid Program ... \n",
      "Your Paddle Fluid works well on SINGLE GPU or CPU.\n",
      "Your Paddle Fluid works well on MUTIPLE GPU or CPU.\n",
      "Your Paddle Fluid is installed successfully! Let's start deep Learning with Paddle Fluid now\n"
     ]
    }
   ],
   "source": [
    "paddle.fluid.install_check.run_check()"
   ]
  },
  {
   "cell_type": "code",
   "execution_count": 18,
   "id": "b210d655",
   "metadata": {},
   "outputs": [
    {
     "name": "stdout",
     "output_type": "stream",
     "text": [
      "Looking in indexes: https://mirror.baidu.com/pypi/simple\n",
      "Requirement already satisfied: paddlehub in d:\\anaconda\\software\\lib\\site-packages (1.6.0)\n",
      "Requirement already satisfied: tb-paddle in d:\\anaconda\\software\\lib\\site-packages (from paddlehub) (0.4.0)\n",
      "Requirement already satisfied: cma==2.7.0 in d:\\anaconda\\software\\lib\\site-packages (from paddlehub) (2.7.0)\n",
      "Requirement already satisfied: flask>=1.1.0 in d:\\anaconda\\software\\lib\\site-packages (from paddlehub) (1.1.2)\n",
      "Requirement already satisfied: flake8 in d:\\anaconda\\software\\lib\\site-packages (from paddlehub) (3.9.2)\n",
      "Requirement already satisfied: colorlog in d:\\anaconda\\software\\lib\\site-packages (from paddlehub) (6.6.0)\n",
      "Requirement already satisfied: chardet==3.0.4 in d:\\anaconda\\software\\lib\\site-packages (from paddlehub) (3.0.4)\n",
      "Requirement already satisfied: pyyaml in d:\\anaconda\\software\\lib\\site-packages (from paddlehub) (6.0)\n",
      "Requirement already satisfied: sentencepiece in d:\\anaconda\\software\\lib\\site-packages (from paddlehub) (0.1.96)\n",
      "Requirement already satisfied: tensorboard>=1.15 in d:\\anaconda\\software\\lib\\site-packages (from paddlehub) (2.7.0)\n",
      "Requirement already satisfied: six>=1.10.0 in d:\\anaconda\\software\\lib\\site-packages (from paddlehub) (1.16.0)\n",
      "Requirement already satisfied: yapf==0.26.0 in d:\\anaconda\\software\\lib\\site-packages (from paddlehub) (0.26.0)\n",
      "Requirement already satisfied: pre-commit in d:\\anaconda\\software\\lib\\site-packages (from paddlehub) (2.16.0)\n",
      "Requirement already satisfied: pandas in d:\\anaconda\\software\\lib\\site-packages (from paddlehub) (1.3.4)\n",
      "Requirement already satisfied: numpy in d:\\anaconda\\software\\lib\\site-packages (from paddlehub) (1.19.3)\n",
      "Requirement already satisfied: Pillow in d:\\anaconda\\software\\lib\\site-packages (from paddlehub) (8.4.0)\n",
      "Requirement already satisfied: protobuf>=3.6.0 in d:\\anaconda\\software\\lib\\site-packages (from paddlehub) (3.19.1)\n",
      "Requirement already satisfied: requests in d:\\anaconda\\software\\lib\\site-packages (from paddlehub) (2.26.0)\n",
      "Requirement already satisfied: opencv-python in d:\\anaconda\\software\\lib\\site-packages (from paddlehub) (4.5.5.62)\n",
      "Requirement already satisfied: nltk in d:\\anaconda\\software\\lib\\site-packages (from paddlehub) (3.6.5)\n",
      "Requirement already satisfied: click>=5.1 in d:\\anaconda\\software\\lib\\site-packages (from flask>=1.1.0->paddlehub) (8.0.3)\n",
      "Requirement already satisfied: Werkzeug>=0.15 in d:\\anaconda\\software\\lib\\site-packages (from flask>=1.1.0->paddlehub) (2.0.2)\n",
      "Requirement already satisfied: itsdangerous>=0.24 in d:\\anaconda\\software\\lib\\site-packages (from flask>=1.1.0->paddlehub) (2.0.1)\n",
      "Requirement already satisfied: Jinja2>=2.10.1 in d:\\anaconda\\software\\lib\\site-packages (from flask>=1.1.0->paddlehub) (2.11.3)\n",
      "Requirement already satisfied: colorama in d:\\anaconda\\software\\lib\\site-packages (from click>=5.1->flask>=1.1.0->paddlehub) (0.4.4)\n",
      "Requirement already satisfied: MarkupSafe>=0.23 in d:\\anaconda\\software\\lib\\site-packages (from Jinja2>=2.10.1->flask>=1.1.0->paddlehub) (1.1.1)\n",
      "Requirement already satisfied: markdown>=2.6.8 in d:\\anaconda\\software\\lib\\site-packages (from tensorboard>=1.15->paddlehub) (3.3.6)\n",
      "Requirement already satisfied: tensorboard-plugin-wit>=1.6.0 in d:\\anaconda\\software\\lib\\site-packages (from tensorboard>=1.15->paddlehub) (1.8.0)\n",
      "Requirement already satisfied: setuptools>=41.0.0 in d:\\anaconda\\software\\lib\\site-packages (from tensorboard>=1.15->paddlehub) (58.0.4)\n",
      "Requirement already satisfied: tensorboard-data-server<0.7.0,>=0.6.0 in d:\\anaconda\\software\\lib\\site-packages (from tensorboard>=1.15->paddlehub) (0.6.1)\n",
      "Requirement already satisfied: absl-py>=0.4 in d:\\anaconda\\software\\lib\\site-packages (from tensorboard>=1.15->paddlehub) (1.0.0)\n",
      "Requirement already satisfied: google-auth<3,>=1.6.3 in d:\\anaconda\\software\\lib\\site-packages (from tensorboard>=1.15->paddlehub) (2.3.3)\n",
      "Requirement already satisfied: wheel>=0.26 in d:\\anaconda\\software\\lib\\site-packages (from tensorboard>=1.15->paddlehub) (0.37.0)\n",
      "Requirement already satisfied: grpcio>=1.24.3 in d:\\anaconda\\software\\lib\\site-packages (from tensorboard>=1.15->paddlehub) (1.43.0)\n",
      "Requirement already satisfied: google-auth-oauthlib<0.5,>=0.4.1 in d:\\anaconda\\software\\lib\\site-packages (from tensorboard>=1.15->paddlehub) (0.4.6)\n",
      "Requirement already satisfied: cachetools<5.0,>=2.0.0 in d:\\anaconda\\software\\lib\\site-packages (from google-auth<3,>=1.6.3->tensorboard>=1.15->paddlehub) (4.2.4)\n",
      "Requirement already satisfied: rsa<5,>=3.1.4 in d:\\anaconda\\software\\lib\\site-packages (from google-auth<3,>=1.6.3->tensorboard>=1.15->paddlehub) (4.8)\n",
      "Requirement already satisfied: pyasn1-modules>=0.2.1 in d:\\anaconda\\software\\lib\\site-packages (from google-auth<3,>=1.6.3->tensorboard>=1.15->paddlehub) (0.2.8)\n",
      "Requirement already satisfied: requests-oauthlib>=0.7.0 in d:\\anaconda\\software\\lib\\site-packages (from google-auth-oauthlib<0.5,>=0.4.1->tensorboard>=1.15->paddlehub) (1.3.0)\n",
      "Requirement already satisfied: importlib-metadata>=4.4 in d:\\anaconda\\software\\lib\\site-packages (from markdown>=2.6.8->tensorboard>=1.15->paddlehub) (4.8.1)\n",
      "Requirement already satisfied: zipp>=0.5 in d:\\anaconda\\software\\lib\\site-packages (from importlib-metadata>=4.4->markdown>=2.6.8->tensorboard>=1.15->paddlehub) (3.6.0)\n",
      "Requirement already satisfied: pyasn1<0.5.0,>=0.4.6 in d:\\anaconda\\software\\lib\\site-packages (from pyasn1-modules>=0.2.1->google-auth<3,>=1.6.3->tensorboard>=1.15->paddlehub) (0.4.8)\n",
      "Requirement already satisfied: certifi>=2017.4.17 in d:\\anaconda\\software\\lib\\site-packages (from requests->paddlehub) (2021.10.8)\n",
      "Requirement already satisfied: charset-normalizer~=2.0.0 in d:\\anaconda\\software\\lib\\site-packages (from requests->paddlehub) (2.0.4)\n",
      "Requirement already satisfied: idna<4,>=2.5 in d:\\anaconda\\software\\lib\\site-packages (from requests->paddlehub) (3.2)\n",
      "Requirement already satisfied: urllib3<1.27,>=1.21.1 in d:\\anaconda\\software\\lib\\site-packages (from requests->paddlehub) (1.26.7)\n",
      "Requirement already satisfied: oauthlib>=3.0.0 in d:\\anaconda\\software\\lib\\site-packages (from requests-oauthlib>=0.7.0->google-auth-oauthlib<0.5,>=0.4.1->tensorboard>=1.15->paddlehub) (3.1.1)\n",
      "Requirement already satisfied: pyflakes<2.4.0,>=2.3.0 in d:\\anaconda\\software\\lib\\site-packages (from flake8->paddlehub) (2.3.1)\n",
      "Requirement already satisfied: mccabe<0.7.0,>=0.6.0 in d:\\anaconda\\software\\lib\\site-packages (from flake8->paddlehub) (0.6.1)\n",
      "Requirement already satisfied: pycodestyle<2.8.0,>=2.7.0 in d:\\anaconda\\software\\lib\\site-packages (from flake8->paddlehub) (2.7.0)\n",
      "Requirement already satisfied: joblib in d:\\anaconda\\software\\lib\\site-packages (from nltk->paddlehub) (1.1.0)\n",
      "Requirement already satisfied: regex>=2021.8.3 in d:\\anaconda\\software\\lib\\site-packages (from nltk->paddlehub) (2021.8.3)\n",
      "Requirement already satisfied: tqdm in d:\\anaconda\\software\\lib\\site-packages (from nltk->paddlehub) (4.62.3)\n",
      "Requirement already satisfied: pytz>=2017.3 in d:\\anaconda\\software\\lib\\site-packages (from pandas->paddlehub) (2021.3)\n",
      "Requirement already satisfied: python-dateutil>=2.7.3 in d:\\anaconda\\software\\lib\\site-packages (from pandas->paddlehub) (2.8.2)\n",
      "Requirement already satisfied: toml in d:\\anaconda\\software\\lib\\site-packages (from pre-commit->paddlehub) (0.10.2)\n",
      "Requirement already satisfied: identify>=1.0.0 in d:\\anaconda\\software\\lib\\site-packages (from pre-commit->paddlehub) (2.4.1)\n",
      "Requirement already satisfied: virtualenv>=20.0.8 in d:\\anaconda\\software\\lib\\site-packages (from pre-commit->paddlehub) (20.11.2)\n",
      "Requirement already satisfied: nodeenv>=0.11.1 in d:\\anaconda\\software\\lib\\site-packages (from pre-commit->paddlehub) (1.6.0)\n",
      "Requirement already satisfied: cfgv>=2.0.0 in d:\\anaconda\\software\\lib\\site-packages (from pre-commit->paddlehub) (3.3.1)\n",
      "Requirement already satisfied: platformdirs<3,>=2 in d:\\anaconda\\software\\lib\\site-packages (from virtualenv>=20.0.8->pre-commit->paddlehub) (2.4.1)\n",
      "Requirement already satisfied: distlib<1,>=0.3.1 in d:\\anaconda\\software\\lib\\site-packages (from virtualenv>=20.0.8->pre-commit->paddlehub) (0.3.4)\n",
      "Requirement already satisfied: filelock<4,>=3.2 in d:\\anaconda\\software\\lib\\site-packages (from virtualenv>=20.0.8->pre-commit->paddlehub) (3.3.1)\n",
      "Note: you may need to restart the kernel to use updated packages.\n"
     ]
    }
   ],
   "source": [
    "pip install -i https://mirror.baidu.com/pypi/simple paddlehub"
   ]
  },
  {
   "cell_type": "code",
   "execution_count": 34,
   "id": "06c8fc02",
   "metadata": {},
   "outputs": [
    {
     "name": "stderr",
     "output_type": "stream",
     "text": [
      "\u001b[32m[2021-12-29 21:48:20,401] [    INFO] - Installing deeplabv3p_xception65_humanseg module\u001b[0m\n",
      "\u001b[32m[2021-12-29 21:48:20,401] [    INFO] - Installing deeplabv3p_xception65_humanseg module\u001b[0m\n",
      "\u001b[32m[2021-12-29 21:48:20,401] [    INFO] - Installing deeplabv3p_xception65_humanseg module\u001b[0m\n",
      "\u001b[32m[2021-12-29 21:48:20,401] [    INFO] - Installing deeplabv3p_xception65_humanseg module\u001b[0m\n",
      "\u001b[32m[2021-12-29 21:48:20,401] [    INFO] - Installing deeplabv3p_xception65_humanseg module\u001b[0m\n",
      "\u001b[32m[2021-12-29 21:48:20,401] [    INFO] - Installing deeplabv3p_xception65_humanseg module\u001b[0m\n",
      "\u001b[32m[2021-12-29 21:48:20,401] [    INFO] - Installing deeplabv3p_xception65_humanseg module\u001b[0m\n",
      "\u001b[32m[2021-12-29 21:48:20,420] [    INFO] - Module deeplabv3p_xception65_humanseg already installed in C:\\Users\\13390\\.paddlehub\\modules\\deeplabv3p_xception65_humanseg\u001b[0m\n",
      "\u001b[32m[2021-12-29 21:48:20,420] [    INFO] - Module deeplabv3p_xception65_humanseg already installed in C:\\Users\\13390\\.paddlehub\\modules\\deeplabv3p_xception65_humanseg\u001b[0m\n",
      "\u001b[32m[2021-12-29 21:48:20,420] [    INFO] - Module deeplabv3p_xception65_humanseg already installed in C:\\Users\\13390\\.paddlehub\\modules\\deeplabv3p_xception65_humanseg\u001b[0m\n",
      "\u001b[32m[2021-12-29 21:48:20,420] [    INFO] - Module deeplabv3p_xception65_humanseg already installed in C:\\Users\\13390\\.paddlehub\\modules\\deeplabv3p_xception65_humanseg\u001b[0m\n",
      "\u001b[32m[2021-12-29 21:48:20,420] [    INFO] - Module deeplabv3p_xception65_humanseg already installed in C:\\Users\\13390\\.paddlehub\\modules\\deeplabv3p_xception65_humanseg\u001b[0m\n",
      "\u001b[32m[2021-12-29 21:48:20,420] [    INFO] - Module deeplabv3p_xception65_humanseg already installed in C:\\Users\\13390\\.paddlehub\\modules\\deeplabv3p_xception65_humanseg\u001b[0m\n",
      "\u001b[32m[2021-12-29 21:48:20,420] [    INFO] - Module deeplabv3p_xception65_humanseg already installed in C:\\Users\\13390\\.paddlehub\\modules\\deeplabv3p_xception65_humanseg\u001b[0m\n"
     ]
    }
   ],
   "source": [
    "# 1、导入模块\n",
    "import os\n",
    "import paddlehub as hub\n",
    "\n",
    "# 2、加载模型\n",
    "humanseg = hub.Module(name='deeplabv3p_xception65_humanseg')\n",
    "\n",
    "# 3、获取文件列表\n",
    "# 图片文件的目录\n",
    "input_path = 'E:/anacoda programming/jupyter-notebook/tools/koutu/'\n",
    "output_path =  'E:/anacoda programming/jupyter-notebook/tools/yikoutu/'\n",
    "# 获取目录下的文件\n",
    "files = os.listdir(input_path)\n",
    "# 用来装图片的\n",
    "imgs = []\n",
    "# 拼接图片路径\n",
    "for i in files:\n",
    "    imgs.append(input_path + i)\n",
    "#抠图\n",
    "results = humanseg.segmentation(data={'image':imgs},visualization=True, output_dir=output_path)"
   ]
  }
 ],
 "metadata": {
  "kernelspec": {
   "display_name": "Python 3 (ipykernel)",
   "language": "python",
   "name": "python3"
  },
  "language_info": {
   "codemirror_mode": {
    "name": "ipython",
    "version": 3
   },
   "file_extension": ".py",
   "mimetype": "text/x-python",
   "name": "python",
   "nbconvert_exporter": "python",
   "pygments_lexer": "ipython3",
   "version": "3.9.7"
  }
 },
 "nbformat": 4,
 "nbformat_minor": 5
}
